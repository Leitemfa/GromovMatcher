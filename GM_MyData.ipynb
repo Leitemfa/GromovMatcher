{
  "cells": [
    {
      "cell_type": "markdown",
      "metadata": {
        "id": "view-in-github",
        "colab_type": "text"
      },
      "source": [
        "<a href=\"https://colab.research.google.com/github/Leitemfa/GromovMatcher/blob/main/GM_MyData.ipynb\" target=\"_parent\"><img src=\"https://colab.research.google.com/assets/colab-badge.svg\" alt=\"Open In Colab\"/></a>"
      ]
    },
    {
      "cell_type": "markdown",
      "id": "33db3c10-d638-4ab8-9901-72ba11caa056",
      "metadata": {
        "id": "33db3c10-d638-4ab8-9901-72ba11caa056"
      },
      "source": [
        "## GromovMatcher: Optimal transport for automatic alignment of untargeted metabolomic data"
      ]
    },
    {
      "cell_type": "markdown",
      "id": "fa8aeffe-4f55-42e1-93cc-9a869f7ed2b8",
      "metadata": {
        "id": "fa8aeffe-4f55-42e1-93cc-9a869f7ed2b8"
      },
      "source": [
        "This is how I used the example script to run GromovMatcher on untargeted data from two datasets I have.\n",
        "\n",
        "Untargeted data must was preprocessed before hand and be in the form of two feature tables similar to the toy dataset provided in toy_data."
      ]
    },
    {
      "cell_type": "markdown",
      "id": "3515207b-b2fb-45eb-93a8-05be6939072a",
      "metadata": {
        "id": "3515207b-b2fb-45eb-93a8-05be6939072a"
      },
      "source": [
        ""
      ]
    },
    {
      "cell_type": "markdown",
      "id": "94741c8f-5eeb-4353-8dd2-2bcc0b7a4654",
      "metadata": {
        "id": "94741c8f-5eeb-4353-8dd2-2bcc0b7a4654"
      },
      "source": [
        "-------"
      ]
    },
    {
      "cell_type": "markdown",
      "source": [
        "## Loading the Anaconda environment\n",
        "\n",
        "All my analysis are done in the conda environment and I also want to use it in SLURM to be able to run another version of the same data with larger datasets"
      ],
      "metadata": {
        "id": "sHeozqP7XW0G"
      },
      "id": "sHeozqP7XW0G"
    },
    {
      "cell_type": "code",
      "source": [],
      "metadata": {
        "id": "s3ekUclmXroe"
      },
      "id": "s3ekUclmXroe",
      "execution_count": null,
      "outputs": []
    },
    {
      "cell_type": "markdown",
      "id": "d39b1310-ecfe-4e6d-8a80-de67cbcd39fe",
      "metadata": {
        "tags": [],
        "id": "d39b1310-ecfe-4e6d-8a80-de67cbcd39fe"
      },
      "source": [
        "### STEP 1: IMPORT GROMOVMATCHER"
      ]
    },
    {
      "cell_type": "markdown",
      "id": "2e7bb971-4b0f-4edc-a26a-9ba03ed2015c",
      "metadata": {
        "id": "2e7bb971-4b0f-4edc-a26a-9ba03ed2015c"
      },
      "source": [
        "Main functions for GromovMatcher (GM) are the 'src' folder. Make sure to either have it in your working directory or to update the path."
      ]
    },
    {
      "cell_type": "code",
      "execution_count": null,
      "id": "5f3b74ae-f906-4a40-9391-bb6850332002",
      "metadata": {
        "id": "5f3b74ae-f906-4a40-9391-bb6850332002"
      },
      "outputs": [],
      "source": [
        "import src.main_GromovMatcher_function as GromovMatcher"
      ]
    },
    {
      "cell_type": "markdown",
      "id": "657c8939-0516-46aa-ac5e-ab4e8b963572",
      "metadata": {
        "id": "657c8939-0516-46aa-ac5e-ab4e8b963572"
      },
      "source": [
        ""
      ]
    },
    {
      "cell_type": "markdown",
      "id": "79a03e6d-9a1d-477c-9acf-1209c4f0bd00",
      "metadata": {
        "tags": [],
        "id": "79a03e6d-9a1d-477c-9acf-1209c4f0bd00"
      },
      "source": [
        "### STEP 2: LOAD AND FORMAT THE DATA"
      ]
    },
    {
      "cell_type": "markdown",
      "id": "28465c59-b693-4d57-8c66-b0778e1c44ed",
      "metadata": {
        "id": "28465c59-b693-4d57-8c66-b0778e1c44ed"
      },
      "source": [
        "GM accepts as input 2 feature tables (samples in rows, features in columns) formatted as follows:\n",
        "- Row 0: m/z of the features. Units must be compatible.\n",
        "- Row 1: RTs of the features. They can be in different units.\n",
        "- Subsequent rows: intensity vectors.\n",
        "\n",
        "Feature tables must be supplied as numpy arrays. Integration of pandas dataframes to included feature IDs will be implemented in the future."
      ]
    },
    {
      "cell_type": "markdown",
      "id": "4483a989-813d-495e-8b92-3644facbfdc5",
      "metadata": {
        "id": "4483a989-813d-495e-8b92-3644facbfdc5"
      },
      "source": [
        ""
      ]
    },
    {
      "cell_type": "markdown",
      "id": "a697ee92-b684-4734-98a7-4191def3f367",
      "metadata": {
        "tags": [],
        "id": "a697ee92-b684-4734-98a7-4191def3f367"
      },
      "source": [
        "#### <u>Toy datasets are provided as an example.\n",
        "    \n",
        "They are randomly generated from a subset of the EXPOsOMICs LC-MS dataset used for our simulation study, with an overlap of 0.6. They comprise 499 samples and 399 features each, with an expected overlap of around 300 features.\n",
        "\n",
        "Load toy datasets:"
      ]
    },
    {
      "cell_type": "code",
      "execution_count": null,
      "id": "f54a81cf-0e8a-4164-8bea-8d52f8e427bc",
      "metadata": {
        "id": "f54a81cf-0e8a-4164-8bea-8d52f8e427bc"
      },
      "outputs": [],
      "source": [
        "import numpy as np\n",
        "import pandas as pd"
      ]
    },
    {
      "cell_type": "code",
      "execution_count": null,
      "id": "1d1f47c3-224c-4684-827c-447ed97b6b49",
      "metadata": {
        "id": "1d1f47c3-224c-4684-827c-447ed97b6b49",
        "outputId": "5e171914-9ec0-4297-97be-806a8ec5b81a"
      },
      "outputs": [
        {
          "data": {
            "text/html": [
              "<div>\n",
              "<style scoped>\n",
              "    .dataframe tbody tr th:only-of-type {\n",
              "        vertical-align: middle;\n",
              "    }\n",
              "\n",
              "    .dataframe tbody tr th {\n",
              "        vertical-align: top;\n",
              "    }\n",
              "\n",
              "    .dataframe thead th {\n",
              "        text-align: right;\n",
              "    }\n",
              "</style>\n",
              "<table border=\"1\" class=\"dataframe\">\n",
              "  <thead>\n",
              "    <tr style=\"text-align: right;\">\n",
              "      <th></th>\n",
              "      <th>feature_1</th>\n",
              "      <th>feature_2</th>\n",
              "      <th>feature_3</th>\n",
              "      <th>feature_4</th>\n",
              "      <th>feature_5</th>\n",
              "      <th>feature_6</th>\n",
              "      <th>feature_7</th>\n",
              "      <th>feature_8</th>\n",
              "      <th>feature_9</th>\n",
              "      <th>feature_10</th>\n",
              "      <th>...</th>\n",
              "      <th>feature_390</th>\n",
              "      <th>feature_391</th>\n",
              "      <th>feature_392</th>\n",
              "      <th>feature_393</th>\n",
              "      <th>feature_394</th>\n",
              "      <th>feature_395</th>\n",
              "      <th>feature_396</th>\n",
              "      <th>feature_397</th>\n",
              "      <th>feature_398</th>\n",
              "      <th>feature_399</th>\n",
              "    </tr>\n",
              "  </thead>\n",
              "  <tbody>\n",
              "    <tr>\n",
              "      <th>m/z</th>\n",
              "      <td>465.356100</td>\n",
              "      <td>328.119800</td>\n",
              "      <td>167.095500</td>\n",
              "      <td>328.046500</td>\n",
              "      <td>851.757600</td>\n",
              "      <td>626.450600</td>\n",
              "      <td>198.048700</td>\n",
              "      <td>280.072400</td>\n",
              "      <td>210.088300</td>\n",
              "      <td>575.374400</td>\n",
              "      <td>...</td>\n",
              "      <td>440.766800</td>\n",
              "      <td>816.456300</td>\n",
              "      <td>85.950600</td>\n",
              "      <td>311.007700</td>\n",
              "      <td>266.102600</td>\n",
              "      <td>96.057800</td>\n",
              "      <td>168.077100</td>\n",
              "      <td>375.768800</td>\n",
              "      <td>401.277100</td>\n",
              "      <td>502.218900</td>\n",
              "    </tr>\n",
              "    <tr>\n",
              "      <th>RT</th>\n",
              "      <td>6.535379</td>\n",
              "      <td>6.182612</td>\n",
              "      <td>6.612022</td>\n",
              "      <td>5.585265</td>\n",
              "      <td>0.578971</td>\n",
              "      <td>7.279726</td>\n",
              "      <td>2.686471</td>\n",
              "      <td>4.843802</td>\n",
              "      <td>3.150286</td>\n",
              "      <td>6.593270</td>\n",
              "      <td>...</td>\n",
              "      <td>7.251791</td>\n",
              "      <td>6.867382</td>\n",
              "      <td>0.492172</td>\n",
              "      <td>2.095689</td>\n",
              "      <td>4.845570</td>\n",
              "      <td>3.607805</td>\n",
              "      <td>4.389801</td>\n",
              "      <td>7.266612</td>\n",
              "      <td>6.424646</td>\n",
              "      <td>5.970378</td>\n",
              "    </tr>\n",
              "    <tr>\n",
              "      <th>sample_1</th>\n",
              "      <td>9.423911</td>\n",
              "      <td>11.137338</td>\n",
              "      <td>8.750625</td>\n",
              "      <td>10.816653</td>\n",
              "      <td>11.048638</td>\n",
              "      <td>9.680030</td>\n",
              "      <td>9.304109</td>\n",
              "      <td>8.676878</td>\n",
              "      <td>10.001277</td>\n",
              "      <td>9.087929</td>\n",
              "      <td>...</td>\n",
              "      <td>8.156194</td>\n",
              "      <td>10.535589</td>\n",
              "      <td>10.198177</td>\n",
              "      <td>10.266100</td>\n",
              "      <td>8.974429</td>\n",
              "      <td>9.453206</td>\n",
              "      <td>10.936373</td>\n",
              "      <td>9.026506</td>\n",
              "      <td>8.833992</td>\n",
              "      <td>8.767282</td>\n",
              "    </tr>\n",
              "    <tr>\n",
              "      <th>sample_2</th>\n",
              "      <td>9.573575</td>\n",
              "      <td>10.619259</td>\n",
              "      <td>10.051474</td>\n",
              "      <td>9.937789</td>\n",
              "      <td>9.835425</td>\n",
              "      <td>11.046153</td>\n",
              "      <td>8.452906</td>\n",
              "      <td>9.622708</td>\n",
              "      <td>11.218898</td>\n",
              "      <td>11.726646</td>\n",
              "      <td>...</td>\n",
              "      <td>10.181159</td>\n",
              "      <td>9.856329</td>\n",
              "      <td>7.408888</td>\n",
              "      <td>9.573193</td>\n",
              "      <td>10.230746</td>\n",
              "      <td>9.485478</td>\n",
              "      <td>9.854851</td>\n",
              "      <td>8.266503</td>\n",
              "      <td>9.646424</td>\n",
              "      <td>11.335629</td>\n",
              "    </tr>\n",
              "    <tr>\n",
              "      <th>sample_3</th>\n",
              "      <td>9.784057</td>\n",
              "      <td>9.422400</td>\n",
              "      <td>8.030211</td>\n",
              "      <td>10.592899</td>\n",
              "      <td>9.816718</td>\n",
              "      <td>10.197378</td>\n",
              "      <td>10.463433</td>\n",
              "      <td>9.664574</td>\n",
              "      <td>10.577018</td>\n",
              "      <td>9.559258</td>\n",
              "      <td>...</td>\n",
              "      <td>10.119167</td>\n",
              "      <td>7.594174</td>\n",
              "      <td>9.214957</td>\n",
              "      <td>9.119060</td>\n",
              "      <td>9.775849</td>\n",
              "      <td>9.165069</td>\n",
              "      <td>10.236783</td>\n",
              "      <td>8.665747</td>\n",
              "      <td>10.045545</td>\n",
              "      <td>9.541500</td>\n",
              "    </tr>\n",
              "  </tbody>\n",
              "</table>\n",
              "<p>5 rows × 399 columns</p>\n",
              "</div>"
            ],
            "text/plain": [
              "           feature_1   feature_2   feature_3   feature_4   feature_5  \\\n",
              "m/z       465.356100  328.119800  167.095500  328.046500  851.757600   \n",
              "RT          6.535379    6.182612    6.612022    5.585265    0.578971   \n",
              "sample_1    9.423911   11.137338    8.750625   10.816653   11.048638   \n",
              "sample_2    9.573575   10.619259   10.051474    9.937789    9.835425   \n",
              "sample_3    9.784057    9.422400    8.030211   10.592899    9.816718   \n",
              "\n",
              "           feature_6   feature_7   feature_8   feature_9  feature_10  ...  \\\n",
              "m/z       626.450600  198.048700  280.072400  210.088300  575.374400  ...   \n",
              "RT          7.279726    2.686471    4.843802    3.150286    6.593270  ...   \n",
              "sample_1    9.680030    9.304109    8.676878   10.001277    9.087929  ...   \n",
              "sample_2   11.046153    8.452906    9.622708   11.218898   11.726646  ...   \n",
              "sample_3   10.197378   10.463433    9.664574   10.577018    9.559258  ...   \n",
              "\n",
              "          feature_390  feature_391  feature_392  feature_393  feature_394  \\\n",
              "m/z        440.766800   816.456300    85.950600   311.007700   266.102600   \n",
              "RT           7.251791     6.867382     0.492172     2.095689     4.845570   \n",
              "sample_1     8.156194    10.535589    10.198177    10.266100     8.974429   \n",
              "sample_2    10.181159     9.856329     7.408888     9.573193    10.230746   \n",
              "sample_3    10.119167     7.594174     9.214957     9.119060     9.775849   \n",
              "\n",
              "          feature_395  feature_396  feature_397  feature_398  feature_399  \n",
              "m/z         96.057800   168.077100   375.768800   401.277100   502.218900  \n",
              "RT           3.607805     4.389801     7.266612     6.424646     5.970378  \n",
              "sample_1     9.453206    10.936373     9.026506     8.833992     8.767282  \n",
              "sample_2     9.485478     9.854851     8.266503     9.646424    11.335629  \n",
              "sample_3     9.165069    10.236783     8.665747    10.045545     9.541500  \n",
              "\n",
              "[5 rows x 399 columns]"
            ]
          },
          "execution_count": 3,
          "metadata": {},
          "output_type": "execute_result"
        }
      ],
      "source": [
        "Data1 = pd.read_csv('toy_data/dataset1.csv', index_col = 0)\n",
        "Data1.head()"
      ]
    },
    {
      "cell_type": "code",
      "execution_count": null,
      "id": "f1055dc5-7df9-4314-8588-4ef857f38e76",
      "metadata": {
        "id": "f1055dc5-7df9-4314-8588-4ef857f38e76",
        "outputId": "5d80105b-585a-4afe-d2d0-051820aa43ed"
      },
      "outputs": [
        {
          "data": {
            "text/html": [
              "<div>\n",
              "<style scoped>\n",
              "    .dataframe tbody tr th:only-of-type {\n",
              "        vertical-align: middle;\n",
              "    }\n",
              "\n",
              "    .dataframe tbody tr th {\n",
              "        vertical-align: top;\n",
              "    }\n",
              "\n",
              "    .dataframe thead th {\n",
              "        text-align: right;\n",
              "    }\n",
              "</style>\n",
              "<table border=\"1\" class=\"dataframe\">\n",
              "  <thead>\n",
              "    <tr style=\"text-align: right;\">\n",
              "      <th></th>\n",
              "      <th>feature_1</th>\n",
              "      <th>feature_2</th>\n",
              "      <th>feature_3</th>\n",
              "      <th>feature_4</th>\n",
              "      <th>feature_5</th>\n",
              "      <th>feature_6</th>\n",
              "      <th>feature_7</th>\n",
              "      <th>feature_8</th>\n",
              "      <th>feature_9</th>\n",
              "      <th>feature_10</th>\n",
              "      <th>...</th>\n",
              "      <th>feature_390</th>\n",
              "      <th>feature_391</th>\n",
              "      <th>feature_392</th>\n",
              "      <th>feature_393</th>\n",
              "      <th>feature_394</th>\n",
              "      <th>feature_395</th>\n",
              "      <th>feature_396</th>\n",
              "      <th>feature_397</th>\n",
              "      <th>feature_398</th>\n",
              "      <th>feature_399</th>\n",
              "    </tr>\n",
              "  </thead>\n",
              "  <tbody>\n",
              "    <tr>\n",
              "      <th>m/z</th>\n",
              "      <td>713.474275</td>\n",
              "      <td>349.206278</td>\n",
              "      <td>294.227984</td>\n",
              "      <td>306.196737</td>\n",
              "      <td>300.244176</td>\n",
              "      <td>399.034364</td>\n",
              "      <td>317.994540</td>\n",
              "      <td>445.163117</td>\n",
              "      <td>205.124345</td>\n",
              "      <td>945.744139</td>\n",
              "      <td>...</td>\n",
              "      <td>574.374124</td>\n",
              "      <td>145.050869</td>\n",
              "      <td>971.764448</td>\n",
              "      <td>510.333673</td>\n",
              "      <td>634.306314</td>\n",
              "      <td>227.109999</td>\n",
              "      <td>794.370793</td>\n",
              "      <td>429.098501</td>\n",
              "      <td>809.777973</td>\n",
              "      <td>155.102351</td>\n",
              "    </tr>\n",
              "    <tr>\n",
              "      <th>RT</th>\n",
              "      <td>5.730765</td>\n",
              "      <td>4.098561</td>\n",
              "      <td>6.174664</td>\n",
              "      <td>3.538476</td>\n",
              "      <td>4.989352</td>\n",
              "      <td>5.398298</td>\n",
              "      <td>0.577044</td>\n",
              "      <td>4.787751</td>\n",
              "      <td>3.079376</td>\n",
              "      <td>0.606640</td>\n",
              "      <td>...</td>\n",
              "      <td>5.585969</td>\n",
              "      <td>2.673242</td>\n",
              "      <td>1.034292</td>\n",
              "      <td>5.492019</td>\n",
              "      <td>5.429711</td>\n",
              "      <td>5.055951</td>\n",
              "      <td>5.270326</td>\n",
              "      <td>2.766335</td>\n",
              "      <td>0.854892</td>\n",
              "      <td>2.568450</td>\n",
              "    </tr>\n",
              "    <tr>\n",
              "      <th>sample_1</th>\n",
              "      <td>11.248834</td>\n",
              "      <td>8.384104</td>\n",
              "      <td>9.896224</td>\n",
              "      <td>10.977128</td>\n",
              "      <td>7.617398</td>\n",
              "      <td>9.840186</td>\n",
              "      <td>9.542567</td>\n",
              "      <td>8.960789</td>\n",
              "      <td>9.312926</td>\n",
              "      <td>11.535990</td>\n",
              "      <td>...</td>\n",
              "      <td>7.157606</td>\n",
              "      <td>8.708465</td>\n",
              "      <td>8.890690</td>\n",
              "      <td>9.792387</td>\n",
              "      <td>9.443509</td>\n",
              "      <td>10.175153</td>\n",
              "      <td>9.371118</td>\n",
              "      <td>8.507801</td>\n",
              "      <td>10.389550</td>\n",
              "      <td>11.677518</td>\n",
              "    </tr>\n",
              "    <tr>\n",
              "      <th>sample_2</th>\n",
              "      <td>10.545851</td>\n",
              "      <td>8.769643</td>\n",
              "      <td>9.198931</td>\n",
              "      <td>8.727798</td>\n",
              "      <td>9.306075</td>\n",
              "      <td>10.424690</td>\n",
              "      <td>9.067920</td>\n",
              "      <td>7.582651</td>\n",
              "      <td>8.154840</td>\n",
              "      <td>9.685585</td>\n",
              "      <td>...</td>\n",
              "      <td>9.045645</td>\n",
              "      <td>9.044384</td>\n",
              "      <td>10.748547</td>\n",
              "      <td>9.414450</td>\n",
              "      <td>9.559016</td>\n",
              "      <td>10.064462</td>\n",
              "      <td>9.487400</td>\n",
              "      <td>9.988619</td>\n",
              "      <td>9.812783</td>\n",
              "      <td>10.979987</td>\n",
              "    </tr>\n",
              "    <tr>\n",
              "      <th>sample_3</th>\n",
              "      <td>10.968538</td>\n",
              "      <td>9.200432</td>\n",
              "      <td>10.641560</td>\n",
              "      <td>9.381849</td>\n",
              "      <td>9.540197</td>\n",
              "      <td>9.694744</td>\n",
              "      <td>11.032554</td>\n",
              "      <td>8.277138</td>\n",
              "      <td>8.727093</td>\n",
              "      <td>10.903483</td>\n",
              "      <td>...</td>\n",
              "      <td>10.006739</td>\n",
              "      <td>10.301322</td>\n",
              "      <td>9.308430</td>\n",
              "      <td>9.964429</td>\n",
              "      <td>9.651942</td>\n",
              "      <td>9.405956</td>\n",
              "      <td>9.944155</td>\n",
              "      <td>8.912474</td>\n",
              "      <td>11.249274</td>\n",
              "      <td>11.993833</td>\n",
              "    </tr>\n",
              "  </tbody>\n",
              "</table>\n",
              "<p>5 rows × 399 columns</p>\n",
              "</div>"
            ],
            "text/plain": [
              "           feature_1   feature_2   feature_3   feature_4   feature_5  \\\n",
              "m/z       713.474275  349.206278  294.227984  306.196737  300.244176   \n",
              "RT          5.730765    4.098561    6.174664    3.538476    4.989352   \n",
              "sample_1   11.248834    8.384104    9.896224   10.977128    7.617398   \n",
              "sample_2   10.545851    8.769643    9.198931    8.727798    9.306075   \n",
              "sample_3   10.968538    9.200432   10.641560    9.381849    9.540197   \n",
              "\n",
              "           feature_6   feature_7   feature_8   feature_9  feature_10  ...  \\\n",
              "m/z       399.034364  317.994540  445.163117  205.124345  945.744139  ...   \n",
              "RT          5.398298    0.577044    4.787751    3.079376    0.606640  ...   \n",
              "sample_1    9.840186    9.542567    8.960789    9.312926   11.535990  ...   \n",
              "sample_2   10.424690    9.067920    7.582651    8.154840    9.685585  ...   \n",
              "sample_3    9.694744   11.032554    8.277138    8.727093   10.903483  ...   \n",
              "\n",
              "          feature_390  feature_391  feature_392  feature_393  feature_394  \\\n",
              "m/z        574.374124   145.050869   971.764448   510.333673   634.306314   \n",
              "RT           5.585969     2.673242     1.034292     5.492019     5.429711   \n",
              "sample_1     7.157606     8.708465     8.890690     9.792387     9.443509   \n",
              "sample_2     9.045645     9.044384    10.748547     9.414450     9.559016   \n",
              "sample_3    10.006739    10.301322     9.308430     9.964429     9.651942   \n",
              "\n",
              "          feature_395  feature_396  feature_397  feature_398  feature_399  \n",
              "m/z        227.109999   794.370793   429.098501   809.777973   155.102351  \n",
              "RT           5.055951     5.270326     2.766335     0.854892     2.568450  \n",
              "sample_1    10.175153     9.371118     8.507801    10.389550    11.677518  \n",
              "sample_2    10.064462     9.487400     9.988619     9.812783    10.979987  \n",
              "sample_3     9.405956     9.944155     8.912474    11.249274    11.993833  \n",
              "\n",
              "[5 rows x 399 columns]"
            ]
          },
          "execution_count": 4,
          "metadata": {},
          "output_type": "execute_result"
        }
      ],
      "source": [
        "Data2 = pd.read_csv('toy_data/dataset2.csv', index_col = 0)\n",
        "Data2.head()"
      ]
    },
    {
      "cell_type": "markdown",
      "id": "a1fa9390-5bfc-4f85-b126-62bcafe3f617",
      "metadata": {
        "id": "a1fa9390-5bfc-4f85-b126-62bcafe3f617"
      },
      "source": [
        ""
      ]
    },
    {
      "cell_type": "markdown",
      "id": "43c7e9e9-95f4-44c3-9a2b-ad7a6e38634d",
      "metadata": {
        "id": "43c7e9e9-95f4-44c3-9a2b-ad7a6e38634d"
      },
      "source": [
        "The data is formatted for GM, and just needs to be converted to numpy arrays."
      ]
    },
    {
      "cell_type": "markdown",
      "id": "fc88de51-9419-4c8f-99ae-50f68c3b6232",
      "metadata": {
        "id": "fc88de51-9419-4c8f-99ae-50f68c3b6232"
      },
      "source": [
        "  "
      ]
    },
    {
      "cell_type": "markdown",
      "id": "f54df2ab-dd8e-4cec-9abc-c6e2e6c73d01",
      "metadata": {
        "id": "f54df2ab-dd8e-4cec-9abc-c6e2e6c73d01"
      },
      "source": [
        "Some important points:\n",
        "\n",
        "- GM does NOT check whether the samples in Data1 and Data2 are similar. Therefore we advise to make sure that the sample populations are as similar as possible across both datasets. For instance, for matched case/control studies, we advise to exclude the samples corresponding to cases if the sample size allows it.\n",
        "- If you expect the populations to be different, we advise to center and scale the feature intensities to have mean of 0 and std of 1 before launching GM."
      ]
    },
    {
      "cell_type": "markdown",
      "id": "cffcf98a-f97c-4a31-9a19-331f08158dd0",
      "metadata": {
        "id": "cffcf98a-f97c-4a31-9a19-331f08158dd0"
      },
      "source": [
        ""
      ]
    },
    {
      "cell_type": "markdown",
      "id": "1f5e2b5f-9c66-4663-bef2-4d3152eda3b3",
      "metadata": {
        "id": "1f5e2b5f-9c66-4663-bef2-4d3152eda3b3"
      },
      "source": [
        ""
      ]
    },
    {
      "cell_type": "markdown",
      "id": "2e91aaf5-4c17-4df5-a37d-664f64cbfb2b",
      "metadata": {
        "id": "2e91aaf5-4c17-4df5-a37d-664f64cbfb2b"
      },
      "source": [
        ""
      ]
    },
    {
      "cell_type": "markdown",
      "id": "5fd8876d-cc65-430d-94f7-71f4bcf22441",
      "metadata": {
        "id": "5fd8876d-cc65-430d-94f7-71f4bcf22441"
      },
      "source": [
        "### STEP 3: LAUNCH GROMOVMATCHER"
      ]
    },
    {
      "cell_type": "markdown",
      "id": "62b8e081-1a0f-4242-a910-cf2efa709575",
      "metadata": {
        "id": "62b8e081-1a0f-4242-a910-cf2efa709575"
      },
      "source": [
        "Launch GM's main function on the toy datasets with default parameters. Runtime depends on the feature size and is typically on the order of minutes.\n",
        "\n",
        "The output is a numpy array of size (features in Data1, features in Data2)"
      ]
    },
    {
      "cell_type": "code",
      "execution_count": null,
      "id": "d3590901-d33b-42bc-bdd7-35db32815119",
      "metadata": {
        "id": "d3590901-d33b-42bc-bdd7-35db32815119"
      },
      "outputs": [],
      "source": [
        "default_coupling = GromovMatcher.GM(np.array(Data1), np.array(Data2))"
      ]
    },
    {
      "cell_type": "markdown",
      "id": "2382cbfa-73da-4bdb-9bc0-8e7672ae817c",
      "metadata": {
        "id": "2382cbfa-73da-4bdb-9bc0-8e7672ae817c"
      },
      "source": [
        "GM identified pairs correspond to non-zeros coefficients in the coupling matrix. The output of GM is not a matching matrix by default, meaning that it can have more than one non-zero coefficient per row and/or column."
      ]
    },
    {
      "cell_type": "code",
      "execution_count": null,
      "id": "bcf522bd-aaf7-45ae-820c-330f5ee20cc9",
      "metadata": {
        "id": "bcf522bd-aaf7-45ae-820c-330f5ee20cc9",
        "outputId": "3d46868a-4400-4571-b244-7f39419deb85"
      },
      "outputs": [
        {
          "data": {
            "text/plain": [
              "322"
            ]
          },
          "execution_count": 6,
          "metadata": {},
          "output_type": "execute_result"
        }
      ],
      "source": [
        "np.sum(default_coupling > 0)"
      ]
    },
    {
      "cell_type": "markdown",
      "id": "7d32419f-eaa4-42f1-89f2-ba57cd138d66",
      "metadata": {
        "id": "7d32419f-eaa4-42f1-89f2-ba57cd138d66"
      },
      "source": [
        "Here, the raw coupling matrix contains 322 non zero coefficients, i.e. potential pairs. Multiple matches are still present, for exploratory purposes."
      ]
    },
    {
      "cell_type": "code",
      "execution_count": null,
      "id": "9cb155f2-32c3-4c2e-a476-8139389420da",
      "metadata": {
        "id": "9cb155f2-32c3-4c2e-a476-8139389420da",
        "outputId": "49bb820f-c236-46c2-c286-7d8601b9560a"
      },
      "outputs": [
        {
          "data": {
            "text/plain": [
              "300"
            ]
          },
          "execution_count": 7,
          "metadata": {},
          "output_type": "execute_result"
        }
      ],
      "source": [
        "one_to_one_coupling = GromovMatcher.keep_max(default_coupling)\n",
        "np.sum(one_to_one_coupling > 0)"
      ]
    },
    {
      "cell_type": "markdown",
      "id": "df294332-33cc-420d-9436-befd5cd15cad",
      "metadata": {
        "id": "df294332-33cc-420d-9436-befd5cd15cad"
      },
      "source": [
        ""
      ]
    },
    {
      "cell_type": "markdown",
      "id": "c9ec5752-d54f-4b04-8f8d-28d8ab91be4e",
      "metadata": {
        "id": "c9ec5752-d54f-4b04-8f8d-28d8ab91be4e"
      },
      "source": [
        "The number of pairs detected is down to 300 after excluding the lowest scored ones."
      ]
    },
    {
      "cell_type": "markdown",
      "id": "bdb8f58b-2d17-49d1-93b4-7476dacfccf5",
      "metadata": {
        "id": "bdb8f58b-2d17-49d1-93b4-7476dacfccf5"
      },
      "source": [
        ""
      ]
    },
    {
      "cell_type": "markdown",
      "id": "c586b9aa-3c61-4ca9-8ec8-526e245ff193",
      "metadata": {
        "id": "c586b9aa-3c61-4ca9-8ec8-526e245ff193"
      },
      "source": [
        "GM has some tunable parameters listed below:"
      ]
    },
    {
      "cell_type": "markdown",
      "id": "45d2e52d-869e-4dd5-8eba-c839ba454fe7",
      "metadata": {
        "id": "45d2e52d-869e-4dd5-8eba-c839ba454fe7"
      },
      "source": [
        "Computation-related parameters:\n",
        "\n",
        "- mgap (default = 0.01), GM's m/z tolerance. Features with an m/z difference of more than mgap will not be matched.\n",
        "- K_outliers (default = 2), number of filtering iterations performed during the RT drift estimation. In order to smooth out the estimated drift, K_outliers filtering steps are carried out, estimating the RT drift and removing outlying pairs.\n",
        "- RT_filter (default = 'MAD'), GM's final criterion for filtering out outliers once the RT drift is estimated. Possible values are 'MAD' (mean absolute deviation), 'MSE' (mean squared error), 'hard_thr' (fixed threshold around the estimated drift). Can be set to None to output unfiltered raw coupling."
      ]
    },
    {
      "cell_type": "markdown",
      "id": "e85ebe55-b375-4483-aceb-0925de964601",
      "metadata": {
        "id": "e85ebe55-b375-4483-aceb-0925de964601"
      },
      "source": [
        "Visualization/QC-related parameters"
      ]
    },
    {
      "cell_type": "markdown",
      "id": "0bf16948-675e-4cdf-9973-ca5329cede10",
      "metadata": {
        "id": "0bf16948-675e-4cdf-9973-ca5329cede10"
      },
      "source": [
        "- verbose (bool)\n",
        "- plot_list, list of elements you want to plot (numpy array containing included in ['Distance patterns', 'Weights', 'Coupling','RT drift','Outliers'])</br>\n",
        "Distance patterns, Weights and Coupling mainly serve verification purpose. Plot heatmaps of, respectively, the distance matrices of each dataset (of respective size (p1,p1) and (p2,p2)), the weight matrix (of size (p1,p2), containing the weights used in the computation of the Gromov-Wasserstein distance), the raw coupling matrix (of size (p1,p2), containing the coupling coefficients before RT filtering).</br>\n",
        "RT drifts plot the final RT deviation estimated during the GromovMatcher process. Outliers outputs *K_outliers* plot, one for each iteration of the filtering pocess, representing the RT drfit as estimated during that step and the outliers subsequently discarded."
      ]
    },
    {
      "cell_type": "markdown",
      "id": "8a4d7f48-b511-4e1d-8704-64d062f5c1ac",
      "metadata": {
        "id": "8a4d7f48-b511-4e1d-8704-64d062f5c1ac"
      },
      "source": [
        ""
      ]
    },
    {
      "cell_type": "markdown",
      "id": "289cc0a3-6be7-4f37-9fea-4d5fad58f022",
      "metadata": {
        "id": "289cc0a3-6be7-4f37-9fea-4d5fad58f022"
      },
      "source": [
        "Here is an example of the visualisation tools provided by GromovMatcher. The command above plots the estimated RT drift and saves it in the current working directory."
      ]
    },
    {
      "cell_type": "code",
      "execution_count": null,
      "id": "87269bcd-db8d-48d2-8fb2-828fd402d4fb",
      "metadata": {
        "id": "87269bcd-db8d-48d2-8fb2-828fd402d4fb",
        "outputId": "edcc6148-f55e-4704-d9df-a66b997076af"
      },
      "outputs": [
        {
          "name": "stdout",
          "output_type": "stream",
          "text": [
            "Checking arguments:\n",
            "\n",
            "Using default distance matrices.\n",
            "Matching will be computed using GW cost only.\n",
            "Restricting GW to m/z compatible pairs, using mgap = 0.01\n",
            "Estimating RT deviation and filtering. Filtered coupling will be returned.\n",
            "\n",
            "\n",
            "Going ahead with the GW-based coupling:\n",
            "\n",
            "Default normalized euclidian distance matrices computed.\n",
            "Default weights computed.\n",
            "Matching cost is set to Gromov-Wasserstein only.\n",
            "GW coupling successfully computed.\n",
            "344 pairs recovered in the crude coupling.\n",
            "\n",
            "Estimating RT deviation with model = True :\n",
            "Done.\n",
            "\n",
            "Filtering the crude coupling based on the estimated RT deviation:\n",
            "Done.\n",
            "322 pairs in the filtered coupling.\n"
          ]
        },
        {
          "data": {
            "image/png": "[encoded data removed]",
            "text/plain": [
              "<Figure size 1500x900 with 1 Axes>"
            ]
          },
          "metadata": {
            "needs_background": "light"
          },
          "output_type": "display_data"
        }
      ],
      "source": [
        "RTplot_coupling = GromovMatcher.GM(np.array(Data1), np.array(Data2), verbose = True, plot_list = ['RT drift'], plot_path = '')"
      ]
    },
    {
      "cell_type": "markdown",
      "id": "280275cd-4592-4045-b296-d0963581262f",
      "metadata": {
        "id": "280275cd-4592-4045-b296-d0963581262f"
      },
      "source": [
        ""
      ]
    },
    {
      "cell_type": "markdown",
      "id": "33379b05-0581-48d0-8859-cd086b9f0c27",
      "metadata": {
        "id": "33379b05-0581-48d0-8859-cd086b9f0c27"
      },
      "source": [
        " Other, more exploratory arguments to GromovMatcher.\n",
        "\n",
        " - The *lmbda*, *otcost* and *mu* arguments modify the cost function, going from (weighted) Gromov-Wasserstein alone to a mixture of Gromov-Wassertein distance on the feature intensities and regular OT cost on the m/z and RT, following Zheng et al. (https://doi.org/10.1137/19M1253976). *lmbda* is the strength of the mixture, between 0 and 1. 0 is the default value and corresponds to the (weighted) Gromov-Wasserstein distance alone, while 1 falls back to regular OT on the m/z and RT alone, without making use of the correlation patterns. *ot_cost* and *mu* determine how the OT cost on the m/z and RT should be computed (see documentation of the GM function for more information).\n",
        " - The *D1* and *D2* arguments are set to None by default (which indicate the use of the default euclidean distance between the features) but can accomodate custom distance matrices (numpy arrays of respective sizes (p1,p1) and (p2,p2)).\n",
        " - the *w* argument determines how the weights are computed in the Gromov-Wasserstein distance computation. Default is 'm/z', corresponds to heavily weighting pairs with a m/z difference exceeding the mgap threshold. None reverts to regular unweighted Gromov-Wasserstein (can be used for instance in case where *lmbda* is non zero and the m/z are accounted for in the OT cost). Custom weights can also be provided in the form of a (p1,p2) numpy array.\n",
        "\n",
        " - RT related arguments (*RT_pred*, *RT_fit*, *RT_filter* and *RT_thr*) are detailed in the GromovMatcher documentation. The determine whether and how to estimate the RT drift, whether to filter the coupling based on the estimation, and how to detect outliers. Default settings are True, 'all', 'MAD', and None respectively"
      ]
    },
    {
      "cell_type": "markdown",
      "id": "d30944ef-9092-4f66-8035-0a0ec7168fac",
      "metadata": {
        "id": "d30944ef-9092-4f66-8035-0a0ec7168fac"
      },
      "source": [
        "  "
      ]
    },
    {
      "cell_type": "markdown",
      "id": "b27cf9a3-6e0c-4010-a9ea-53aee417cd16",
      "metadata": {
        "id": "b27cf9a3-6e0c-4010-a9ea-53aee417cd16"
      },
      "source": [
        "  "
      ]
    },
    {
      "cell_type": "markdown",
      "id": "e9f96e23-404c-4a83-be08-4c453f56dbac",
      "metadata": {
        "id": "e9f96e23-404c-4a83-be08-4c453f56dbac"
      },
      "source": [
        "### STEP 4: REFORMAT THE COUPLING INTO A LIST"
      ]
    },
    {
      "cell_type": "markdown",
      "id": "ea48ba35-04c5-4be0-9a6e-e15bdc47df2a",
      "metadata": {
        "id": "ea48ba35-04c5-4be0-9a6e-e15bdc47df2a"
      },
      "source": [
        "GromovMatcher.GM returns the (p1,p2) coupling matrix, but many applications require a more legibl output. The *link_features* function transforms the coupling matrix into a list of matched pairs, with their associated coupling coefficient."
      ]
    },
    {
      "cell_type": "code",
      "execution_count": null,
      "id": "5778dccd-9781-4403-a2fc-4a742384b305",
      "metadata": {
        "id": "5778dccd-9781-4403-a2fc-4a742384b305"
      },
      "outputs": [],
      "source": [
        "pair_list = GromovMatcher.link_feature(Data1, Data2,one_to_one_coupling)"
      ]
    },
    {
      "cell_type": "code",
      "execution_count": null,
      "id": "21bf9afd-8bc6-40ac-a077-cbdda8bd1619",
      "metadata": {
        "id": "21bf9afd-8bc6-40ac-a077-cbdda8bd1619",
        "outputId": "2010245a-fec2-4668-fe5a-e339dc85ec42"
      },
      "outputs": [
        {
          "data": {
            "text/html": [
              "<div>\n",
              "<style scoped>\n",
              "    .dataframe tbody tr th:only-of-type {\n",
              "        vertical-align: middle;\n",
              "    }\n",
              "\n",
              "    .dataframe tbody tr th {\n",
              "        vertical-align: top;\n",
              "    }\n",
              "\n",
              "    .dataframe thead th {\n",
              "        text-align: right;\n",
              "    }\n",
              "</style>\n",
              "<table border=\"1\" class=\"dataframe\">\n",
              "  <thead>\n",
              "    <tr style=\"text-align: right;\">\n",
              "      <th></th>\n",
              "      <th></th>\n",
              "      <th>0</th>\n",
              "    </tr>\n",
              "  </thead>\n",
              "  <tbody>\n",
              "    <tr>\n",
              "      <th>feature_29</th>\n",
              "      <th>feature_94</th>\n",
              "      <td>0.611724</td>\n",
              "    </tr>\n",
              "    <tr>\n",
              "      <th>feature_53</th>\n",
              "      <th>feature_261</th>\n",
              "      <td>0.711670</td>\n",
              "    </tr>\n",
              "    <tr>\n",
              "      <th>feature_101</th>\n",
              "      <th>feature_205</th>\n",
              "      <td>0.993741</td>\n",
              "    </tr>\n",
              "    <tr>\n",
              "      <th>feature_102</th>\n",
              "      <th>feature_52</th>\n",
              "      <td>0.711463</td>\n",
              "    </tr>\n",
              "    <tr>\n",
              "      <th>feature_103</th>\n",
              "      <th>feature_155</th>\n",
              "      <td>0.985525</td>\n",
              "    </tr>\n",
              "    <tr>\n",
              "      <th>...</th>\n",
              "      <th>...</th>\n",
              "      <td>...</td>\n",
              "    </tr>\n",
              "    <tr>\n",
              "      <th>feature_395</th>\n",
              "      <th>feature_43</th>\n",
              "      <td>0.988397</td>\n",
              "    </tr>\n",
              "    <tr>\n",
              "      <th>feature_396</th>\n",
              "      <th>feature_66</th>\n",
              "      <td>0.899134</td>\n",
              "    </tr>\n",
              "    <tr>\n",
              "      <th>feature_397</th>\n",
              "      <th>feature_23</th>\n",
              "      <td>0.976297</td>\n",
              "    </tr>\n",
              "    <tr>\n",
              "      <th>feature_398</th>\n",
              "      <th>feature_69</th>\n",
              "      <td>0.971402</td>\n",
              "    </tr>\n",
              "    <tr>\n",
              "      <th>feature_399</th>\n",
              "      <th>feature_191</th>\n",
              "      <td>0.995423</td>\n",
              "    </tr>\n",
              "  </tbody>\n",
              "</table>\n",
              "<p>300 rows × 1 columns</p>\n",
              "</div>"
            ],
            "text/plain": [
              "                                0\n",
              "feature_29  feature_94   0.611724\n",
              "feature_53  feature_261  0.711670\n",
              "feature_101 feature_205  0.993741\n",
              "feature_102 feature_52   0.711463\n",
              "feature_103 feature_155  0.985525\n",
              "...                           ...\n",
              "feature_395 feature_43   0.988397\n",
              "feature_396 feature_66   0.899134\n",
              "feature_397 feature_23   0.976297\n",
              "feature_398 feature_69   0.971402\n",
              "feature_399 feature_191  0.995423\n",
              "\n",
              "[300 rows x 1 columns]"
            ]
          },
          "execution_count": 9,
          "metadata": {},
          "output_type": "execute_result"
        }
      ],
      "source": [
        "pair_list"
      ]
    },
    {
      "cell_type": "code",
      "execution_count": null,
      "id": "308249e5-0d4f-44d8-be68-9322749101e5",
      "metadata": {
        "id": "308249e5-0d4f-44d8-be68-9322749101e5"
      },
      "outputs": [],
      "source": []
    },
    {
      "cell_type": "code",
      "execution_count": null,
      "id": "ff9bc5a2-8c3f-4549-84ec-388d670bdc36",
      "metadata": {
        "id": "ff9bc5a2-8c3f-4549-84ec-388d670bdc36"
      },
      "outputs": [],
      "source": []
    },
    {
      "cell_type": "code",
      "execution_count": null,
      "id": "7883a2a2-f1f0-4cab-829c-4e833825d99e",
      "metadata": {
        "id": "7883a2a2-f1f0-4cab-829c-4e833825d99e"
      },
      "outputs": [],
      "source": []
    }
  ],
  "metadata": {
    "kernelspec": {
      "display_name": "Python 3",
      "language": "python",
      "name": "python3"
    },
    "language_info": {
      "codemirror_mode": {
        "name": "ipython",
        "version": 3
      },
      "file_extension": ".py",
      "mimetype": "text/x-python",
      "name": "python",
      "nbconvert_exporter": "python",
      "pygments_lexer": "ipython3",
      "version": "3.6.8"
    },
    "colab": {
      "provenance": [],
      "include_colab_link": true
    }
  },
  "nbformat": 4,
  "nbformat_minor": 5
}